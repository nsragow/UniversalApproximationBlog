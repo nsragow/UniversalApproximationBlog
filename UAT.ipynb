{
 "cells": [
  {
   "cell_type": "code",
   "execution_count": 19,
   "metadata": {},
   "outputs": [],
   "source": [
    "from matplotlib import pyplot as plt\n",
    "import numpy as np"
   ]
  },
  {
   "cell_type": "code",
   "execution_count": 40,
   "metadata": {},
   "outputs": [],
   "source": [
    "def approximate_func(function, start : int = -10, stop : int = 10, step_size : float = .5):\n",
    "    data_point_count = int((stop - start) / step_size)\n",
    "    x = np.linspace(start,stop,data_point_count)\n",
    "    y = list(map(function,x))\n",
    "    return list(zip(x,y))"
   ]
  },
  {
   "cell_type": "code",
   "execution_count": 41,
   "metadata": {},
   "outputs": [
    {
     "data": {
      "text/plain": [
       "[(-10.0, -10.0),\n",
       " (-9.487179487179487, -9.487179487179487),\n",
       " (-8.974358974358974, -8.974358974358974),\n",
       " (-8.461538461538462, -8.461538461538462),\n",
       " (-7.948717948717949, -7.948717948717949),\n",
       " (-7.435897435897436, -7.435897435897436),\n",
       " (-6.923076923076923, -6.923076923076923),\n",
       " (-6.410256410256411, -6.410256410256411),\n",
       " (-5.897435897435898, -5.897435897435898),\n",
       " (-5.384615384615385, -5.384615384615385),\n",
       " (-4.871794871794872, -4.871794871794872),\n",
       " (-4.3589743589743595, -4.3589743589743595),\n",
       " (-3.8461538461538467, -3.8461538461538467),\n",
       " (-3.333333333333334, -3.333333333333334),\n",
       " (-2.820512820512821, -2.820512820512821),\n",
       " (-2.3076923076923084, -2.3076923076923084),\n",
       " (-1.7948717948717956, -1.7948717948717956),\n",
       " (-1.2820512820512828, -1.2820512820512828),\n",
       " (-0.76923076923077, -0.76923076923077),\n",
       " (-0.2564102564102573, -0.2564102564102573),\n",
       " (0.2564102564102555, 0.2564102564102555),\n",
       " (0.7692307692307683, 0.7692307692307683),\n",
       " (1.282051282051281, 1.282051282051281),\n",
       " (1.7948717948717938, 1.7948717948717938),\n",
       " (2.3076923076923066, 2.3076923076923066),\n",
       " (2.8205128205128194, 2.8205128205128194),\n",
       " (3.333333333333332, 3.333333333333332),\n",
       " (3.846153846153845, 3.846153846153845),\n",
       " (4.358974358974358, 4.358974358974358),\n",
       " (4.8717948717948705, 4.8717948717948705),\n",
       " (5.384615384615383, 5.384615384615383),\n",
       " (5.897435897435896, 5.897435897435896),\n",
       " (6.410256410256409, 6.410256410256409),\n",
       " (6.92307692307692, 6.92307692307692),\n",
       " (7.435897435897434, 7.435897435897434),\n",
       " (7.948717948717949, 7.948717948717949),\n",
       " (8.46153846153846, 8.46153846153846),\n",
       " (8.974358974358971, 8.974358974358971),\n",
       " (9.487179487179485, 9.487179487179485),\n",
       " (10.0, 10.0)]"
      ]
     },
     "execution_count": 41,
     "metadata": {},
     "output_type": "execute_result"
    }
   ],
   "source": [
    "approximate_func(lambda x:x)"
   ]
  },
  {
   "cell_type": "code",
   "execution_count": 42,
   "metadata": {},
   "outputs": [],
   "source": [
    "def plot(x_y):\n",
    "    x = x_y[]\n",
    "    plt.plot(x_y)"
   ]
  },
  {
   "cell_type": "code",
   "execution_count": 43,
   "metadata": {},
   "outputs": [
    {
     "data": {
      "image/png": "[encoded data removed]",
      "text/plain": [
       "<Figure size 432x288 with 1 Axes>"
      ]
     },
     "metadata": {
      "needs_background": "light"
     },
     "output_type": "display_data"
    }
   ],
   "source": [
    "plot(approximate_func(lambda x : x))"
   ]
  },
  {
   "cell_type": "code",
   "execution_count": 47,
   "metadata": {},
   "outputs": [
    {
     "ename": "TypeError",
     "evalue": "plot() takes 1 positional argument but 2 were given",
     "output_type": "error",
     "traceback": [
      "\u001b[0;31m---------------------------------------------------------------------------\u001b[0m",
      "\u001b[0;31mTypeError\u001b[0m                                 Traceback (most recent call last)",
      "\u001b[0;32m<ipython-input-47-7cf62c519e76>\u001b[0m in \u001b[0;36m<module>\u001b[0;34m\u001b[0m\n\u001b[0;32m----> 1\u001b[0;31m \u001b[0mplot\u001b[0m\u001b[0;34m(\u001b[0m\u001b[0;34m[\u001b[0m\u001b[0;36m0\u001b[0m\u001b[0;34m,\u001b[0m\u001b[0;36m1\u001b[0m\u001b[0;34m,\u001b[0m\u001b[0;36m2\u001b[0m\u001b[0;34m]\u001b[0m\u001b[0;34m,\u001b[0m\u001b[0;34m[\u001b[0m\u001b[0;36m1\u001b[0m\u001b[0;34m,\u001b[0m\u001b[0;36m1\u001b[0m\u001b[0;34m,\u001b[0m\u001b[0;36m1\u001b[0m\u001b[0;34m]\u001b[0m\u001b[0;34m)\u001b[0m\u001b[0;34m\u001b[0m\u001b[0;34m\u001b[0m\u001b[0m\n\u001b[0m",
      "\u001b[0;31mTypeError\u001b[0m: plot() takes 1 positional argument but 2 were given"
     ]
    }
   ],
   "source": [
    "plot([0,1,2],[1,1,1])"
   ]
  },
  {
   "cell_type": "code",
   "execution_count": 49,
   "metadata": {},
   "outputs": [
    {
     "data": {
      "text/plain": [
       "[<matplotlib.lines.Line2D at 0x120185850>]"
      ]
     },
     "execution_count": 49,
     "metadata": {},
     "output_type": "execute_result"
    },
    {
     "data": {
      "image/png": "[encoded data removed]",
      "text/plain": [
       "<Figure size 432x288 with 1 Axes>"
      ]
     },
     "metadata": {
      "needs_background": "light"
     },
     "output_type": "display_data"
    }
   ],
   "source": [
    "x = [-1,1,3]\n",
    "y = [0,0,3]\n",
    "\n",
    "plt.plot(x,y)"
   ]
  },
  {
   "cell_type": "code",
   "execution_count": null,
   "metadata": {},
   "outputs": [],
   "source": []
  }
 ],
 "metadata": {
  "kernelspec": {
   "display_name": "Python 3",
   "language": "python",
   "name": "python3"
  },
  "language_info": {
   "codemirror_mode": {
    "name": "ipython",
    "version": 3
   },
   "file_extension": ".py",
   "mimetype": "text/x-python",
   "name": "python",
   "nbconvert_exporter": "python",
   "pygments_lexer": "ipython3",
   "version": "3.7.4"
  }
 },
 "nbformat": 4,
 "nbformat_minor": 2
}
